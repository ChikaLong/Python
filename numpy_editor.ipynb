{
  "nbformat": 4,
  "nbformat_minor": 0,
  "metadata": {
    "kernelspec": {
      "display_name": "Python 3",
      "language": "python",
      "name": "python3"
    },
    "language_info": {
      "codemirror_mode": {
        "name": "ipython",
        "version": 3
      },
      "file_extension": ".py",
      "mimetype": "text/x-python",
      "name": "python",
      "nbconvert_exporter": "python",
      "pygments_lexer": "ipython3",
      "version": "3.7.6"
    },
    "colab": {
      "name": "numpy_editor.ipynb",
      "provenance": [],
      "collapsed_sections": [],
      "include_colab_link": true
    },
    "accelerator": "GPU"
  },
  "cells": [
    {
      "cell_type": "markdown",
      "metadata": {
        "id": "view-in-github",
        "colab_type": "text"
      },
      "source": [
        "<a href=\"https://colab.research.google.com/github/ChikaLong/Python/blob/main/numpy_editor.ipynb\" target=\"_parent\"><img src=\"https://colab.research.google.com/assets/colab-badge.svg\" alt=\"Open In Colab\"/></a>"
      ]
    },
    {
      "cell_type": "markdown",
      "metadata": {
        "id": "xaCGJTrnPoOG"
      },
      "source": [
        "# numpy exercises\n",
        "\n",
        "\n",
        "1. データの状態を確認する方法について学習します。（4問）\n",
        "2. 配列について学習します。（4問）\n",
        "3. スライスについて学習します。（5問）\n",
        "4. 行列について学習します。（基礎）（6問）\n",
        "5. 行列について学習します。（応用）（7問）\n",
        "6. numpyでよく使う機能について学習します。（14問）"
      ]
    },
    {
      "cell_type": "markdown",
      "metadata": {
        "id": "pPWemfIrPoOL"
      },
      "source": [
        "### 0. 事前準備"
      ]
    },
    {
      "cell_type": "markdown",
      "metadata": {
        "id": "g83IslbTPoOL"
      },
      "source": [
        "#### 0.1 「numpyを読み込んでください。」"
      ]
    },
    {
      "cell_type": "code",
      "metadata": {
        "id": "SznM94N2PoOM"
      },
      "source": [
        "import numpy as np"
      ],
      "execution_count": 1,
      "outputs": []
    },
    {
      "cell_type": "markdown",
      "metadata": {
        "id": "Mnu6uMDFPoON"
      },
      "source": [
        "#### 0.2 「以下のコードを読み込んでください。」"
      ]
    },
    {
      "cell_type": "code",
      "metadata": {
        "colab": {
          "base_uri": "https://localhost:8080/"
        },
        "id": "Gyy2lvlHPoON",
        "outputId": "917f7755-f681-4e4f-dba9-e86301440276"
      },
      "source": [
        "a = np.arange(15).reshape(3, 5)\n",
        "a"
      ],
      "execution_count": 2,
      "outputs": [
        {
          "output_type": "execute_result",
          "data": {
            "text/plain": [
              "array([[ 0,  1,  2,  3,  4],\n",
              "       [ 5,  6,  7,  8,  9],\n",
              "       [10, 11, 12, 13, 14]])"
            ]
          },
          "metadata": {},
          "execution_count": 2
        }
      ]
    },
    {
      "cell_type": "markdown",
      "metadata": {
        "id": "UfSOH77wPoOP"
      },
      "source": [
        "### 1. データの状態を確認する方法について学習します。（4問）"
      ]
    },
    {
      "cell_type": "markdown",
      "metadata": {
        "id": "WZ6jXOkhPoOQ"
      },
      "source": [
        "#### 1.1 「行列の大きさを確認してください。」"
      ]
    },
    {
      "cell_type": "code",
      "metadata": {
        "colab": {
          "base_uri": "https://localhost:8080/"
        },
        "id": "wobcsCDwPoOQ",
        "outputId": "0db97b51-73ab-4518-e9d2-95d6387add1d"
      },
      "source": [
        "a.shape"
      ],
      "execution_count": 3,
      "outputs": [
        {
          "output_type": "execute_result",
          "data": {
            "text/plain": [
              "(3, 5)"
            ]
          },
          "metadata": {},
          "execution_count": 3
        }
      ]
    },
    {
      "cell_type": "markdown",
      "metadata": {
        "id": "2IeKzwmpPoOR"
      },
      "source": [
        "#### 1.2 「行列の軸数（次元）を確認してください。」"
      ]
    },
    {
      "cell_type": "code",
      "metadata": {
        "colab": {
          "base_uri": "https://localhost:8080/"
        },
        "id": "LGCHUHcIPoOS",
        "outputId": "97e2e791-7558-4e9c-f3e6-123f13638f53"
      },
      "source": [
        "a.ndim"
      ],
      "execution_count": 4,
      "outputs": [
        {
          "output_type": "execute_result",
          "data": {
            "text/plain": [
              "2"
            ]
          },
          "metadata": {},
          "execution_count": 4
        }
      ]
    },
    {
      "cell_type": "markdown",
      "metadata": {
        "id": "yofEDPjBPoOS"
      },
      "source": [
        "#### 1.3 「行列のデータ型を確認してください。」"
      ]
    },
    {
      "cell_type": "code",
      "metadata": {
        "colab": {
          "base_uri": "https://localhost:8080/"
        },
        "id": "tqiatfAUPoOS",
        "outputId": "b2c79ee0-6c32-4af4-f944-3abd46882081"
      },
      "source": [
        "type(a)"
      ],
      "execution_count": 5,
      "outputs": [
        {
          "output_type": "execute_result",
          "data": {
            "text/plain": [
              "numpy.ndarray"
            ]
          },
          "metadata": {},
          "execution_count": 5
        }
      ]
    },
    {
      "cell_type": "markdown",
      "metadata": {
        "id": "4n3Ud0OWPoOT"
      },
      "source": [
        "#### 1.4 「行列の配列要素を確認してください。」"
      ]
    },
    {
      "cell_type": "code",
      "metadata": {
        "colab": {
          "base_uri": "https://localhost:8080/"
        },
        "id": "PQW--DMnPoOT",
        "outputId": "36be033e-8cc2-4955-8ce9-81a90e0153e8"
      },
      "source": [
        "a.dtype"
      ],
      "execution_count": 6,
      "outputs": [
        {
          "output_type": "execute_result",
          "data": {
            "text/plain": [
              "dtype('int64')"
            ]
          },
          "metadata": {},
          "execution_count": 6
        }
      ]
    },
    {
      "cell_type": "markdown",
      "metadata": {
        "id": "pbJDCkvePoOT"
      },
      "source": [
        "### 2. 配列について学習します。（4問）"
      ]
    },
    {
      "cell_type": "markdown",
      "metadata": {
        "id": "7N11eECxPoOT"
      },
      "source": [
        "#### 2.1 「8つの「0」が入る配列を作成してください。」"
      ]
    },
    {
      "cell_type": "code",
      "metadata": {
        "colab": {
          "base_uri": "https://localhost:8080/"
        },
        "id": "rP4KvesHPoOU",
        "outputId": "73aaaf60-0e9c-4cfa-f3f5-f5fe4bb0837f"
      },
      "source": [
        "b = np.zeros(8)\n",
        "print(b)"
      ],
      "execution_count": 7,
      "outputs": [
        {
          "output_type": "stream",
          "name": "stdout",
          "text": [
            "[0. 0. 0. 0. 0. 0. 0. 0.]\n"
          ]
        }
      ]
    },
    {
      "cell_type": "markdown",
      "metadata": {
        "id": "Omcywz1FPoOU"
      },
      "source": [
        "#### 2.2 「8つの「0」が入る配列を作成し、5番目の値を「1」に変えてください。」"
      ]
    },
    {
      "cell_type": "code",
      "metadata": {
        "colab": {
          "base_uri": "https://localhost:8080/"
        },
        "id": "BWCe1cW_PoOV",
        "outputId": "edb63299-e1f8-4678-ec2f-e8627b9fb7c5"
      },
      "source": [
        "b = np.zeros(8)\n",
        "b[4] = 1\n",
        "print(b)"
      ],
      "execution_count": 8,
      "outputs": [
        {
          "output_type": "stream",
          "name": "stdout",
          "text": [
            "[0. 0. 0. 0. 1. 0. 0. 0.]\n"
          ]
        }
      ]
    },
    {
      "cell_type": "markdown",
      "metadata": {
        "id": "RvH9I7AXPoOV"
      },
      "source": [
        "#### 2.3 「10～49までの数字が昇順で入った配列を作成してください。」"
      ]
    },
    {
      "cell_type": "code",
      "metadata": {
        "colab": {
          "base_uri": "https://localhost:8080/"
        },
        "id": "FL8aI1h_PoOV",
        "outputId": "24e3beb8-ff42-4c24-b3f9-ea7066ef2f39"
      },
      "source": [
        "c = np.arange(10,50)\n",
        "c = np.sort(c)\n",
        "print(c)"
      ],
      "execution_count": 9,
      "outputs": [
        {
          "output_type": "stream",
          "name": "stdout",
          "text": [
            "[10 11 12 13 14 15 16 17 18 19 20 21 22 23 24 25 26 27 28 29 30 31 32 33\n",
            " 34 35 36 37 38 39 40 41 42 43 44 45 46 47 48 49]\n"
          ]
        }
      ]
    },
    {
      "cell_type": "markdown",
      "metadata": {
        "id": "4zufPwLuPoOV"
      },
      "source": [
        "#### 2.4 「0～39までの数字が降順で入った配列を作成してください。」"
      ]
    },
    {
      "cell_type": "code",
      "metadata": {
        "colab": {
          "base_uri": "https://localhost:8080/"
        },
        "id": "onH9tDArPoOV",
        "outputId": "86776053-885f-4b76-cc30-9b072bf85413"
      },
      "source": [
        "d = np.arange(0,40)\n",
        "d = np.sort(d)[::-1]\n",
        "print(d)"
      ],
      "execution_count": 10,
      "outputs": [
        {
          "output_type": "stream",
          "name": "stdout",
          "text": [
            "[39 38 37 36 35 34 33 32 31 30 29 28 27 26 25 24 23 22 21 20 19 18 17 16\n",
            " 15 14 13 12 11 10  9  8  7  6  5  4  3  2  1  0]\n"
          ]
        }
      ]
    },
    {
      "cell_type": "markdown",
      "metadata": {
        "id": "K_cjVsldu3Sx"
      },
      "source": [
        "**data = np.arange(40)<br>\n",
        "data = data[::-1]<br>\n",
        "print(data)**"
      ]
    },
    {
      "cell_type": "markdown",
      "metadata": {
        "id": "V3uvjSZZPoOV"
      },
      "source": [
        "### 3. スライスについて学習します。（5問）"
      ]
    },
    {
      "cell_type": "markdown",
      "metadata": {
        "id": "M0Tizz7LPoOV"
      },
      "source": [
        "#### 3.1 「0~9までの数字が入った配列を作成してください。」"
      ]
    },
    {
      "cell_type": "code",
      "metadata": {
        "colab": {
          "base_uri": "https://localhost:8080/"
        },
        "id": "JCNZfYrIPoOW",
        "outputId": "52058931-62a8-498c-cbaa-6a9bfad63e22"
      },
      "source": [
        "e = np.arange(10)\n",
        "print(e)"
      ],
      "execution_count": 11,
      "outputs": [
        {
          "output_type": "stream",
          "name": "stdout",
          "text": [
            "[0 1 2 3 4 5 6 7 8 9]\n"
          ]
        }
      ]
    },
    {
      "cell_type": "markdown",
      "metadata": {
        "id": "m-WdvGX6PoOW"
      },
      "source": [
        "#### 3.2 「スライス（:）を使用して、3.1で作成した配列から下記の配列を取り出して下さい。」"
      ]
    },
    {
      "cell_type": "code",
      "metadata": {
        "colab": {
          "base_uri": "https://localhost:8080/"
        },
        "id": "QyIvngJkPoOW",
        "outputId": "87159530-3f9f-43b7-b0ea-770e45c4b841"
      },
      "source": [
        "print(e[4:8])"
      ],
      "execution_count": 12,
      "outputs": [
        {
          "output_type": "stream",
          "name": "stdout",
          "text": [
            "[4 5 6 7]\n"
          ]
        }
      ]
    },
    {
      "cell_type": "markdown",
      "metadata": {
        "id": "UlAs8GLXPoOW"
      },
      "source": [
        "#### 3.3 「スライス（:）を使用して、3.1で作成した配列から「マイナス」を使用して下記の配列を取り出して下さい。」"
      ]
    },
    {
      "cell_type": "code",
      "metadata": {
        "colab": {
          "base_uri": "https://localhost:8080/"
        },
        "id": "2QFUREj1PoOW",
        "outputId": "d2dd9320-e078-476c-eb51-4be74bbd480b"
      },
      "source": [
        "print(e[-7:-2])"
      ],
      "execution_count": 13,
      "outputs": [
        {
          "output_type": "stream",
          "name": "stdout",
          "text": [
            "[3 4 5 6 7]\n"
          ]
        }
      ]
    },
    {
      "cell_type": "markdown",
      "metadata": {
        "id": "l07wsVFVPoOW"
      },
      "source": [
        "#### 3.4 「スライス（:）を使用して、3.1で作成した配列から「マイナス」を使用して下記の配列を取り出して下さい。」"
      ]
    },
    {
      "cell_type": "code",
      "metadata": {
        "colab": {
          "base_uri": "https://localhost:8080/"
        },
        "id": "zq2IZneWPoOW",
        "outputId": "4be34245-55ae-46a5-8abf-cefd3fc8e70c"
      },
      "source": [
        "print(e[::-1])"
      ],
      "execution_count": 14,
      "outputs": [
        {
          "output_type": "stream",
          "name": "stdout",
          "text": [
            "[9 8 7 6 5 4 3 2 1 0]\n"
          ]
        }
      ]
    },
    {
      "cell_type": "markdown",
      "metadata": {
        "id": "Dvd0cHO6PoOW"
      },
      "source": [
        "#### 3.5 「スライス（:）を使用して、3.1で作成した配列から下記の配列を取り出して下さい。」"
      ]
    },
    {
      "cell_type": "code",
      "metadata": {
        "colab": {
          "base_uri": "https://localhost:8080/"
        },
        "id": "x73LwtcSPoOW",
        "outputId": "e24a7dc3-bbc1-42d9-ef93-0ae978b7067f"
      },
      "source": [
        "print(e[2:7:2])"
      ],
      "execution_count": 15,
      "outputs": [
        {
          "output_type": "stream",
          "name": "stdout",
          "text": [
            "[2 4 6]\n"
          ]
        }
      ]
    },
    {
      "cell_type": "markdown",
      "metadata": {
        "id": "3aaVlUx0vQRr"
      },
      "source": [
        "**print(e[2:8:2])**"
      ]
    },
    {
      "cell_type": "markdown",
      "metadata": {
        "id": "3ec9Ioh-PoOW"
      },
      "source": [
        "### 4. 行列について学習します（基礎）（6問）"
      ]
    },
    {
      "cell_type": "markdown",
      "metadata": {
        "id": "z9AhQWmhPoOX"
      },
      "source": [
        "#### 4.1 「0～8までの数字が昇順で入った配列を作成し、3×3の行列を作成してください。」"
      ]
    },
    {
      "cell_type": "code",
      "metadata": {
        "colab": {
          "base_uri": "https://localhost:8080/"
        },
        "id": "uNsgLyLzPoOX",
        "outputId": "3b645fa8-2ed2-4e0d-f655-96a8d1898a72"
      },
      "source": [
        "f = np.arange(9).reshape((3, 3))\n",
        "print(f)"
      ],
      "execution_count": 16,
      "outputs": [
        {
          "output_type": "stream",
          "name": "stdout",
          "text": [
            "[[0 1 2]\n",
            " [3 4 5]\n",
            " [6 7 8]]\n"
          ]
        }
      ]
    },
    {
      "cell_type": "markdown",
      "metadata": {
        "id": "2H-o0CmrPoOX"
      },
      "source": [
        "#### 4.2 「任意の「0」が入っている配列を作成し、「0」以外が入っているインデックスを取得してください。」"
      ]
    },
    {
      "cell_type": "code",
      "metadata": {
        "colab": {
          "base_uri": "https://localhost:8080/"
        },
        "id": "T3yn0YdsPoOX",
        "outputId": "ec1feac5-e5bb-471b-e67c-2f96757b8cc7"
      },
      "source": [
        "g = np.arange(5)\n",
        "g.nonzero()"
      ],
      "execution_count": 44,
      "outputs": [
        {
          "output_type": "execute_result",
          "data": {
            "text/plain": [
              "(array([1, 2, 3, 4]),)"
            ]
          },
          "metadata": {},
          "execution_count": 44
        }
      ]
    },
    {
      "cell_type": "markdown",
      "metadata": {
        "id": "UQsd52vmvdTU"
      },
      "source": [
        "**data = np.nonzero([1,2,0,0,4,0])<br>\n",
        "print(data)**"
      ]
    },
    {
      "cell_type": "markdown",
      "metadata": {
        "id": "RVEQb_RPPoOX"
      },
      "source": [
        "#### 4.3 「3×3の正方行列を作成してください。」"
      ]
    },
    {
      "cell_type": "code",
      "metadata": {
        "colab": {
          "base_uri": "https://localhost:8080/"
        },
        "id": "dNdmOY-pPoOX",
        "outputId": "46becf11-f830-4f37-8df3-eaa4362c1cee"
      },
      "source": [
        "h = np.eye(3)\n",
        "print(h)"
      ],
      "execution_count": 18,
      "outputs": [
        {
          "output_type": "stream",
          "name": "stdout",
          "text": [
            "[[1. 0. 0.]\n",
            " [0. 1. 0.]\n",
            " [0. 0. 1.]]\n"
          ]
        }
      ]
    },
    {
      "cell_type": "markdown",
      "metadata": {
        "id": "kz8DdhIePoOX"
      },
      "source": [
        "#### 4.4 「3×3×3のランダム値を持つ行列を作成してください。」"
      ]
    },
    {
      "cell_type": "code",
      "metadata": {
        "colab": {
          "base_uri": "https://localhost:8080/"
        },
        "id": "plGfozilPoOY",
        "outputId": "551d078d-647a-408e-e9d1-fbc3b32f184f"
      },
      "source": [
        "i = np.random.random((3, 3, 3))\n",
        "print(i)"
      ],
      "execution_count": 19,
      "outputs": [
        {
          "output_type": "stream",
          "name": "stdout",
          "text": [
            "[[[0.14257715 0.82152612 0.4482981 ]\n",
            "  [0.92426369 0.30601802 0.0732058 ]\n",
            "  [0.99860964 0.01547809 0.10136223]]\n",
            "\n",
            " [[0.12675157 0.32404617 0.88452496]\n",
            "  [0.7115879  0.19041127 0.57257232]\n",
            "  [0.58001783 0.06778905 0.25598577]]\n",
            "\n",
            " [[0.16106964 0.8347182  0.56029883]\n",
            "  [0.86510511 0.08165514 0.48929511]\n",
            "  [0.22428701 0.19030156 0.5975195 ]]]\n"
          ]
        }
      ]
    },
    {
      "cell_type": "markdown",
      "metadata": {
        "id": "tfAGXulrPoOY"
      },
      "source": [
        "#### 4.5 「10×10のランダム値を持つ行列を作成し、最小値と最大値を出力してください。」"
      ]
    },
    {
      "cell_type": "code",
      "metadata": {
        "colab": {
          "base_uri": "https://localhost:8080/"
        },
        "id": "TS-za_Q2PoOY",
        "outputId": "5731f5b2-5596-4e6a-b5b4-a80437e22e6e"
      },
      "source": [
        "j = np.random.random((10, 10))\n",
        "print(j.min())\n",
        "print(j.max())"
      ],
      "execution_count": 20,
      "outputs": [
        {
          "output_type": "stream",
          "name": "stdout",
          "text": [
            "0.005261461106713328\n",
            "0.9921284259918541\n"
          ]
        }
      ]
    },
    {
      "cell_type": "markdown",
      "metadata": {
        "id": "mcMYKWYCvmBM"
      },
      "source": [
        "**data = np.random.random((10,10))<br>\n",
        "datamin, datamax = data.min(), data.max()<br>\n",
        "print(datamin, datamax)**"
      ]
    },
    {
      "cell_type": "markdown",
      "metadata": {
        "id": "jEznPhx_PoOY"
      },
      "source": [
        "#### 4.6 「10×10のランダム値を持つ行列を作成し、平均値を出力してください。」"
      ]
    },
    {
      "cell_type": "code",
      "metadata": {
        "colab": {
          "base_uri": "https://localhost:8080/"
        },
        "id": "-2lg-ye8PoOY",
        "outputId": "f28dc65c-61a2-4359-e80c-aca7bee0449e"
      },
      "source": [
        "j = np.random.random((10, 10))\n",
        "j = np.mean(j)\n",
        "print(j)"
      ],
      "execution_count": 21,
      "outputs": [
        {
          "output_type": "stream",
          "name": "stdout",
          "text": [
            "0.5267230198288158\n"
          ]
        }
      ]
    },
    {
      "cell_type": "markdown",
      "metadata": {
        "id": "c7A_Us-qPoOY"
      },
      "source": [
        "### 5. 行列について学習します（応用）（7問）"
      ]
    },
    {
      "cell_type": "markdown",
      "metadata": {
        "id": "Eq58_LgfPoOY"
      },
      "source": [
        "#### 5.1 「10×10の大きさの、外側だけ値が「1」、内側が全て値が「0」の行列を作成してください。」"
      ]
    },
    {
      "cell_type": "code",
      "metadata": {
        "colab": {
          "base_uri": "https://localhost:8080/"
        },
        "id": "aU6W3dg3PoOY",
        "outputId": "560030e7-64ca-49d2-ad95-9c690808b165"
      },
      "source": [
        "k = np.ones((10,10))\n",
        "k[1:-1,1:-1] = 0\n",
        "print(k)"
      ],
      "execution_count": 22,
      "outputs": [
        {
          "output_type": "stream",
          "name": "stdout",
          "text": [
            "[[1. 1. 1. 1. 1. 1. 1. 1. 1. 1.]\n",
            " [1. 0. 0. 0. 0. 0. 0. 0. 0. 1.]\n",
            " [1. 0. 0. 0. 0. 0. 0. 0. 0. 1.]\n",
            " [1. 0. 0. 0. 0. 0. 0. 0. 0. 1.]\n",
            " [1. 0. 0. 0. 0. 0. 0. 0. 0. 1.]\n",
            " [1. 0. 0. 0. 0. 0. 0. 0. 0. 1.]\n",
            " [1. 0. 0. 0. 0. 0. 0. 0. 0. 1.]\n",
            " [1. 0. 0. 0. 0. 0. 0. 0. 0. 1.]\n",
            " [1. 0. 0. 0. 0. 0. 0. 0. 0. 1.]\n",
            " [1. 1. 1. 1. 1. 1. 1. 1. 1. 1.]]\n"
          ]
        }
      ]
    },
    {
      "cell_type": "markdown",
      "metadata": {
        "id": "LtXqJD26PoOY"
      },
      "source": [
        "#### 5.2 「10×10の大きさの、外側だけ値が「0」、内側が全て値が「1」の行列を作成してください。」"
      ]
    },
    {
      "cell_type": "code",
      "metadata": {
        "colab": {
          "base_uri": "https://localhost:8080/"
        },
        "id": "3yMrP9xSPoOY",
        "outputId": "84200b4a-2d15-4105-a466-43643ccb5949"
      },
      "source": [
        "l = np.pad(np.ones((8,8)), 1)\n",
        "print(l)"
      ],
      "execution_count": 23,
      "outputs": [
        {
          "output_type": "stream",
          "name": "stdout",
          "text": [
            "[[0. 0. 0. 0. 0. 0. 0. 0. 0. 0.]\n",
            " [0. 1. 1. 1. 1. 1. 1. 1. 1. 0.]\n",
            " [0. 1. 1. 1. 1. 1. 1. 1. 1. 0.]\n",
            " [0. 1. 1. 1. 1. 1. 1. 1. 1. 0.]\n",
            " [0. 1. 1. 1. 1. 1. 1. 1. 1. 0.]\n",
            " [0. 1. 1. 1. 1. 1. 1. 1. 1. 0.]\n",
            " [0. 1. 1. 1. 1. 1. 1. 1. 1. 0.]\n",
            " [0. 1. 1. 1. 1. 1. 1. 1. 1. 0.]\n",
            " [0. 1. 1. 1. 1. 1. 1. 1. 1. 0.]\n",
            " [0. 0. 0. 0. 0. 0. 0. 0. 0. 0.]]\n"
          ]
        }
      ]
    },
    {
      "cell_type": "markdown",
      "metadata": {
        "id": "VnkfLQZhv3i9"
      },
      "source": [
        "**data = np.ones((8,8))<br>\n",
        "data = np.pad(data, pad_width=1, mode='constant', constant_values=0)<br>\n",
        "print(data)**"
      ]
    },
    {
      "cell_type": "markdown",
      "metadata": {
        "id": "XPtrvzXQPoOY"
      },
      "source": [
        "#### 5.3「下記のような4×4の対角行列を作成してください。」"
      ]
    },
    {
      "cell_type": "code",
      "metadata": {
        "colab": {
          "base_uri": "https://localhost:8080/"
        },
        "id": "Kh7QWlsYPoOY",
        "outputId": "8a386aa7-bdb7-4aa1-ad00-775737ecfcd2"
      },
      "source": [
        "m = np.array([1,2,3,4])\n",
        "print(np.diag(m))"
      ],
      "execution_count": 24,
      "outputs": [
        {
          "output_type": "stream",
          "name": "stdout",
          "text": [
            "[[1 0 0 0]\n",
            " [0 2 0 0]\n",
            " [0 0 3 0]\n",
            " [0 0 0 4]]\n"
          ]
        }
      ]
    },
    {
      "cell_type": "markdown",
      "metadata": {
        "id": "UqSX0V72v-wu"
      },
      "source": [
        "**data = np.diag(1+np.arange(4),k=0)<br>\n",
        "print(data)**"
      ]
    },
    {
      "cell_type": "markdown",
      "metadata": {
        "id": "H7D9-8-dPoOY"
      },
      "source": [
        "#### 5.4 「下記のような8×8の行列を作成してください。」"
      ]
    },
    {
      "cell_type": "code",
      "metadata": {
        "colab": {
          "base_uri": "https://localhost:8080/"
        },
        "id": "nlxwDwraPoOY",
        "outputId": "dbee38f1-3ce8-499a-c6a5-497761508ce0"
      },
      "source": [
        "n = np.array([[0,1],[0,1][::-1]])\n",
        "n_2 = np.tile(n, (4, 4))\n",
        "print(n_2)"
      ],
      "execution_count": 25,
      "outputs": [
        {
          "output_type": "stream",
          "name": "stdout",
          "text": [
            "[[0 1 0 1 0 1 0 1]\n",
            " [1 0 1 0 1 0 1 0]\n",
            " [0 1 0 1 0 1 0 1]\n",
            " [1 0 1 0 1 0 1 0]\n",
            " [0 1 0 1 0 1 0 1]\n",
            " [1 0 1 0 1 0 1 0]\n",
            " [0 1 0 1 0 1 0 1]\n",
            " [1 0 1 0 1 0 1 0]]\n"
          ]
        }
      ]
    },
    {
      "cell_type": "markdown",
      "metadata": {
        "id": "YYMfIEI3wE4L"
      },
      "source": [
        "**data = np.zeros((8,8),dtype=int)<br>\n",
        "data[1::2,::2] = 1<br>\n",
        "data[::2,1::2] = 1<br>\n",
        "print(data)**"
      ]
    },
    {
      "cell_type": "markdown",
      "metadata": {
        "id": "_LLVK8u9PoOZ"
      },
      "source": [
        "#### 5.5「3×5×2の行列を考えた時に、10番目の要素のインデックスを出力してください。」"
      ]
    },
    {
      "cell_type": "code",
      "metadata": {
        "colab": {
          "base_uri": "https://localhost:8080/"
        },
        "id": "_dRcMBb9PoOZ",
        "outputId": "8767ad55-6454-4042-868a-ee4fcfac59af"
      },
      "source": [
        "np.unravel_index(10, (3, 5, 2))"
      ],
      "execution_count": 26,
      "outputs": [
        {
          "output_type": "execute_result",
          "data": {
            "text/plain": [
              "(1, 0, 0)"
            ]
          },
          "metadata": {},
          "execution_count": 26
        }
      ]
    },
    {
      "cell_type": "markdown",
      "metadata": {
        "id": "VvhtCbu-PoOZ"
      },
      "source": [
        "#### 5.6「5×5のランダム値を持つ行列を作成し、行列内の最大値が1、最小値が0になるように正規化してください。」"
      ]
    },
    {
      "cell_type": "code",
      "metadata": {
        "colab": {
          "base_uri": "https://localhost:8080/"
        },
        "id": "IDoIaErzPoOZ",
        "outputId": "fbc09fc5-c7d9-4c61-a038-3be078b65852"
      },
      "source": [
        "o = np.random.random((5, 5))\n",
        "omin = o.min()\n",
        "omax = o.max()\n",
        "o_2 = (o - omin).astype(float) / (omax - omin).astype(float)\n",
        "print(o_2)"
      ],
      "execution_count": 27,
      "outputs": [
        {
          "output_type": "stream",
          "name": "stdout",
          "text": [
            "[[0.76445676 0.60642345 0.33444764 0.16774042 0.88588231]\n",
            " [0.64319146 0.         0.46663201 0.84523372 0.63100125]\n",
            " [0.28543229 0.23486563 1.         0.75665074 0.15111176]\n",
            " [0.37233021 0.99651026 0.71513046 0.78212305 0.45219917]\n",
            " [0.57961915 0.26802358 0.08559125 0.9852079  0.27519092]]\n"
          ]
        }
      ]
    },
    {
      "cell_type": "markdown",
      "metadata": {
        "id": "a8JrNpbUweeW"
      },
      "source": [
        "**data = np.random.random((5,5))<br>\n",
        "datamax, datamin = data.max(), data.min()<br>\n",
        "data = (data - datamin)/(datamax - datamin)<br>\n",
        "print(data)**"
      ]
    },
    {
      "cell_type": "markdown",
      "metadata": {
        "id": "7k_YW6uLPoOZ"
      },
      "source": [
        "#### 5.7「5×3の値が全て1の行列と3×2の値が全て1の行列の掛け算を行ってください。」"
      ]
    },
    {
      "cell_type": "code",
      "metadata": {
        "colab": {
          "base_uri": "https://localhost:8080/"
        },
        "id": "gCz111qIPoOZ",
        "outputId": "eb02dbdc-5a5a-44aa-f507-6ba1e5891181"
      },
      "source": [
        "p = np.ones((5,3))\n",
        "q = np.ones((3,2))\n",
        "pq = np.dot(p, q)\n",
        "print(pq)"
      ],
      "execution_count": 28,
      "outputs": [
        {
          "output_type": "stream",
          "name": "stdout",
          "text": [
            "[[3. 3.]\n",
            " [3. 3.]\n",
            " [3. 3.]\n",
            " [3. 3.]\n",
            " [3. 3.]]\n"
          ]
        }
      ]
    },
    {
      "cell_type": "markdown",
      "metadata": {
        "id": "TBaTgGYkwnE6"
      },
      "source": [
        "**data = np.dot(np.ones((5,3)), np.ones((3,2)))<br>\n",
        "print(data)**"
      ]
    },
    {
      "cell_type": "markdown",
      "metadata": {
        "id": "zIw9iOmvPoOZ"
      },
      "source": [
        "### 6. numpyでよく使用する機能について学習します。（14問）"
      ]
    },
    {
      "cell_type": "markdown",
      "metadata": {
        "id": "zSiQgJDYPoOZ"
      },
      "source": [
        "#### 6.1「0～10までの数字を昇順に並べた配列を作成し、4～8までの数字をマイナスに変えて出力してください。」"
      ]
    },
    {
      "cell_type": "code",
      "metadata": {
        "colab": {
          "base_uri": "https://localhost:8080/"
        },
        "id": "TzrdTdjXPoOZ",
        "outputId": "eefc47b2-1ac5-4116-c573-574179300e09"
      },
      "source": [
        "r = np.arange(11)\n",
        "r[(3 < r) & (r < 9)] *= -1\n",
        "print(r)"
      ],
      "execution_count": 29,
      "outputs": [
        {
          "output_type": "stream",
          "name": "stdout",
          "text": [
            "[ 0  1  2  3 -4 -5 -6 -7 -8  9 10]\n"
          ]
        }
      ]
    },
    {
      "cell_type": "markdown",
      "metadata": {
        "id": "F4L-nVM3wtVP"
      },
      "source": [
        "**data = np.arange(11)<br>\n",
        "data[(3 < data) & (data <= 8)] *= -1<br>\n",
        "print(data)**"
      ]
    },
    {
      "cell_type": "markdown",
      "metadata": {
        "id": "HuXkQlY6PoOZ"
      },
      "source": [
        "#### 6.2「ランダムな整数値を10個もつ配列を2つ作成し、その2つの配列の共通の値を出力してください。」"
      ]
    },
    {
      "cell_type": "code",
      "metadata": {
        "colab": {
          "base_uri": "https://localhost:8080/"
        },
        "id": "BwKWixhyPoOZ",
        "outputId": "6f8f6ede-9cf2-4071-dd38-06b3b826b0da"
      },
      "source": [
        "s_1 = np.random.randint(0,10,10)\n",
        "s_2 = np.random.randint(0,10,10)\n",
        "s_3 = np.intersect1d(s_1, s_2)\n",
        "print(s_3)"
      ],
      "execution_count": 30,
      "outputs": [
        {
          "output_type": "stream",
          "name": "stdout",
          "text": [
            "[0 6 8]\n"
          ]
        }
      ]
    },
    {
      "cell_type": "markdown",
      "metadata": {
        "id": "cHGfgi_gwz7C"
      },
      "source": [
        "**data1 = np.random.randint(0,10,10)<br>\n",
        "data2 = np.random.randint(0,10,10)<br>\n",
        "print(np.intersect1d(data1,data2))**"
      ]
    },
    {
      "cell_type": "markdown",
      "metadata": {
        "id": "BjHQYkX8PoOZ"
      },
      "source": [
        "#### 6.3「虚数を出力してください。」"
      ]
    },
    {
      "cell_type": "code",
      "metadata": {
        "colab": {
          "base_uri": "https://localhost:8080/"
        },
        "id": "D54B1qkjPoOZ",
        "outputId": "c2aa1e08-62d5-4405-efc7-b7ce5d033b9a"
      },
      "source": [
        "t = np.emath.sqrt(-1)\n",
        "print(t)"
      ],
      "execution_count": 31,
      "outputs": [
        {
          "output_type": "stream",
          "name": "stdout",
          "text": [
            "1j\n"
          ]
        }
      ]
    },
    {
      "cell_type": "markdown",
      "metadata": {
        "id": "_VyJFKfbPoOZ"
      },
      "source": [
        "#### 6.4「今日の日付と明後日の日付を出力してください。」"
      ]
    },
    {
      "cell_type": "code",
      "metadata": {
        "colab": {
          "base_uri": "https://localhost:8080/"
        },
        "id": "odDbMNzlPoOa",
        "outputId": "f767bfb2-a1b9-43fc-fd46-5a858d24a4a4"
      },
      "source": [
        "import datetime\n",
        "dt_now = datetime.datetime.today()\n",
        "dt_at = datetime.timedelta(days=2)\n",
        "print(dt_now.date())\n",
        "print((dt_now + dt_at).date())"
      ],
      "execution_count": 32,
      "outputs": [
        {
          "output_type": "stream",
          "name": "stdout",
          "text": [
            "2021-12-20\n",
            "2021-12-22\n"
          ]
        }
      ]
    },
    {
      "cell_type": "markdown",
      "metadata": {
        "id": "Wm8HBCkhw-XK"
      },
      "source": [
        "**today     = np.datetime64('today', 'D')<br>\n",
        "day_after_tomorrow  = np.datetime64('today', 'D') + np.timedelta64(2, 'D')<br>\n",
        "print(today)<br>\n",
        "print(day_after_tomorrow)**"
      ]
    },
    {
      "cell_type": "markdown",
      "metadata": {
        "id": "G7Jq1vwoPoOa"
      },
      "source": [
        "#### 6.5「2019年11月の日付を配列として出力してください。」"
      ]
    },
    {
      "cell_type": "code",
      "metadata": {
        "colab": {
          "base_uri": "https://localhost:8080/"
        },
        "id": "-JCdl6MnPoOa",
        "outputId": "f051a3f0-2176-40d3-9d1a-869969e81318"
      },
      "source": [
        "dt_m = np.arange('2019-11', '2019-12', dtype='datetime64[D]')\n",
        "print(dt_m)"
      ],
      "execution_count": 33,
      "outputs": [
        {
          "output_type": "stream",
          "name": "stdout",
          "text": [
            "['2019-11-01' '2019-11-02' '2019-11-03' '2019-11-04' '2019-11-05'\n",
            " '2019-11-06' '2019-11-07' '2019-11-08' '2019-11-09' '2019-11-10'\n",
            " '2019-11-11' '2019-11-12' '2019-11-13' '2019-11-14' '2019-11-15'\n",
            " '2019-11-16' '2019-11-17' '2019-11-18' '2019-11-19' '2019-11-20'\n",
            " '2019-11-21' '2019-11-22' '2019-11-23' '2019-11-24' '2019-11-25'\n",
            " '2019-11-26' '2019-11-27' '2019-11-28' '2019-11-29' '2019-11-30']\n"
          ]
        }
      ]
    },
    {
      "cell_type": "markdown",
      "metadata": {
        "id": "0Zr_u_aoPoOa"
      },
      "source": [
        "#### 6.6「ランダムの値を10個持つ配列を作成し、異なる3パターンで整数として出力してください。」"
      ]
    },
    {
      "cell_type": "code",
      "metadata": {
        "colab": {
          "base_uri": "https://localhost:8080/"
        },
        "id": "0FMcWzE-PoOa",
        "outputId": "69e5e981-a557-4a08-c77f-8ef5b00e3dec"
      },
      "source": [
        "u = np.random.uniform(0,10,10)\n",
        "print(u)\n",
        "print(np.trunc(u))\n",
        "print(np.floor(u))\n",
        "print(np.fix(u))"
      ],
      "execution_count": 34,
      "outputs": [
        {
          "output_type": "stream",
          "name": "stdout",
          "text": [
            "[3.62847868 2.38220452 7.1109906  8.3005013  5.44490566 2.37925704\n",
            " 9.90733391 5.34892187 8.42024513 7.91011335]\n",
            "[3. 2. 7. 8. 5. 2. 9. 5. 8. 7.]\n",
            "[3. 2. 7. 8. 5. 2. 9. 5. 8. 7.]\n",
            "[3. 2. 7. 8. 5. 2. 9. 5. 8. 7.]\n"
          ]
        }
      ]
    },
    {
      "cell_type": "markdown",
      "metadata": {
        "id": "DKvKKq5mxO9Q"
      },
      "source": [
        "**data = np.random.uniform(0,10,10)<br>\n",
        "print(data)<br>\n",
        "print (data - data%1)<br>\n",
        "print (np.floor(data))<br>\n",
        "print (np.ceil(data)-1)**"
      ]
    },
    {
      "cell_type": "markdown",
      "metadata": {
        "id": "8z6saxxpPoOa"
      },
      "source": [
        "#### 6.7「下記のような行列を作成してください。」"
      ]
    },
    {
      "cell_type": "code",
      "metadata": {
        "colab": {
          "base_uri": "https://localhost:8080/"
        },
        "id": "fuJph9hhPoOa",
        "outputId": "dca105dc-b09e-4226-ffe7-6a4c870f7c0b"
      },
      "source": [
        "v = np.arange(5)\n",
        "v_2 = np.tile(v, (5,1))\n",
        "print(v_2)"
      ],
      "execution_count": 35,
      "outputs": [
        {
          "output_type": "stream",
          "name": "stdout",
          "text": [
            "[[0 1 2 3 4]\n",
            " [0 1 2 3 4]\n",
            " [0 1 2 3 4]\n",
            " [0 1 2 3 4]\n",
            " [0 1 2 3 4]]\n"
          ]
        }
      ]
    },
    {
      "cell_type": "markdown",
      "metadata": {
        "id": "iwS38uoExbcw"
      },
      "source": [
        "**data = np.zeros((5,5))<br>\n",
        "data += np.arange(5)<br>\n",
        "print(data)**"
      ]
    },
    {
      "cell_type": "markdown",
      "metadata": {
        "id": "-sgHoq0kPoOa"
      },
      "source": [
        "#### 6.8「「0」と「1」は含めず、「0」～「1」の間を10分割した配列を作成してください。」"
      ]
    },
    {
      "cell_type": "code",
      "metadata": {
        "colab": {
          "base_uri": "https://localhost:8080/"
        },
        "id": "AMjDGu-oPoOa",
        "outputId": "1560fb34-a057-4af3-9862-09e2ae8d9fa7"
      },
      "source": [
        "w = np.linspace(0,1,11, endpoint=False)[1:]\n",
        "print(w)"
      ],
      "execution_count": 36,
      "outputs": [
        {
          "output_type": "stream",
          "name": "stdout",
          "text": [
            "[0.09090909 0.18181818 0.27272727 0.36363636 0.45454545 0.54545455\n",
            " 0.63636364 0.72727273 0.81818182 0.90909091]\n"
          ]
        }
      ]
    },
    {
      "cell_type": "markdown",
      "metadata": {
        "id": "wEmjZ3AkPoOa"
      },
      "source": [
        "#### 6.9「10のランダム値を持つ配列を作成し、値を昇順にして出力してください。」"
      ]
    },
    {
      "cell_type": "code",
      "metadata": {
        "colab": {
          "base_uri": "https://localhost:8080/"
        },
        "id": "0-nN0cgDPoOa",
        "outputId": "47070f99-7b41-4c0e-fc2e-70d5cfc683ca"
      },
      "source": [
        "x = np.random.random((10))\n",
        "print(np.sort(x))"
      ],
      "execution_count": 37,
      "outputs": [
        {
          "output_type": "stream",
          "name": "stdout",
          "text": [
            "[0.22815758 0.24357822 0.27077156 0.36680196 0.4159192  0.42332077\n",
            " 0.53703206 0.68974988 0.81670905 0.8713445 ]\n"
          ]
        }
      ]
    },
    {
      "cell_type": "markdown",
      "metadata": {
        "id": "zx5Q9PqyPoOa"
      },
      "source": [
        "#### 6.10「10のランダム値を持つ配列を作成し、MAX値に「0」を置き換えて出力してください。」"
      ]
    },
    {
      "cell_type": "code",
      "metadata": {
        "colab": {
          "base_uri": "https://localhost:8080/"
        },
        "id": "8DdugQKaPoOa",
        "outputId": "9e838bc7-8687-4d81-e60e-aad14dfbdfe6"
      },
      "source": [
        "x = np.random.random((10))\n",
        "x[x.argmax()] = 0\n",
        "print(x)"
      ],
      "execution_count": 38,
      "outputs": [
        {
          "output_type": "stream",
          "name": "stdout",
          "text": [
            "[0.43862711 0.23576115 0.97841583 0.         0.34536675 0.25266738\n",
            " 0.5128395  0.57358219 0.18323082 0.27712543]\n"
          ]
        }
      ]
    },
    {
      "cell_type": "markdown",
      "metadata": {
        "id": "eMnccB2NPoOa"
      },
      "source": [
        "#### 6.11「下記のような値が軸単位で昇順になっている行列を作成してください。」"
      ]
    },
    {
      "cell_type": "markdown",
      "metadata": {
        "id": "EEMIkwvFxoaM"
      },
      "source": [
        "**data = np.zeros((5,5), [('x',float),('y',float)])<br>\n",
        "data['x'], data['y'] = np.meshgrid(np.linspace(0,1,5),np.linspace(0,1,5))<br>\n",
        "print(data)**"
      ]
    },
    {
      "cell_type": "code",
      "source": [
        "data = np.zeros((5,5), [('x',float),('y',float)])\n",
        "data['x'], data['y'] = np.meshgrid(np.linspace(0,1,5),np.linspace(0,1,5))\n",
        "print(data)"
      ],
      "metadata": {
        "colab": {
          "base_uri": "https://localhost:8080/"
        },
        "id": "UnncFJi9T1iP",
        "outputId": "25fd9cc7-5c7d-4da7-fecd-59500835e14c"
      },
      "execution_count": 39,
      "outputs": [
        {
          "output_type": "stream",
          "name": "stdout",
          "text": [
            "[[(0.  , 0.  ) (0.25, 0.  ) (0.5 , 0.  ) (0.75, 0.  ) (1.  , 0.  )]\n",
            " [(0.  , 0.25) (0.25, 0.25) (0.5 , 0.25) (0.75, 0.25) (1.  , 0.25)]\n",
            " [(0.  , 0.5 ) (0.25, 0.5 ) (0.5 , 0.5 ) (0.75, 0.5 ) (1.  , 0.5 )]\n",
            " [(0.  , 0.75) (0.25, 0.75) (0.5 , 0.75) (0.75, 0.75) (1.  , 0.75)]\n",
            " [(0.  , 1.  ) (0.25, 1.  ) (0.5 , 1.  ) (0.75, 1.  ) (1.  , 1.  )]]\n"
          ]
        }
      ]
    },
    {
      "cell_type": "markdown",
      "metadata": {
        "id": "ERwE-pVxPoOa"
      },
      "source": [
        "#### 6.12「3×3の値が昇順になっている行列を作成し、インデックスと値を出力してください。」"
      ]
    },
    {
      "cell_type": "code",
      "metadata": {
        "colab": {
          "base_uri": "https://localhost:8080/"
        },
        "id": "lhqcrzkEPoOa",
        "outputId": "db10f8a4-9ae5-4e18-9cd5-623e95a9a149"
      },
      "source": [
        "for i in np.ndenumerate(np.arange(0,9).reshape(3,3)):\n",
        "  print(i)"
      ],
      "execution_count": 40,
      "outputs": [
        {
          "output_type": "stream",
          "name": "stdout",
          "text": [
            "((0, 0), 0)\n",
            "((0, 1), 1)\n",
            "((0, 2), 2)\n",
            "((1, 0), 3)\n",
            "((1, 1), 4)\n",
            "((1, 2), 5)\n",
            "((2, 0), 6)\n",
            "((2, 1), 7)\n",
            "((2, 2), 8)\n"
          ]
        }
      ]
    },
    {
      "cell_type": "markdown",
      "metadata": {
        "id": "3cOw2PJox0a8"
      },
      "source": [
        "**data = np.arange(9).reshape(3,3)<br>\n",
        "for index, value in np.ndenumerate(data):<br>\n",
        "    print(index, value)**"
      ]
    },
    {
      "cell_type": "markdown",
      "metadata": {
        "id": "XPvXg0s6PoOb"
      },
      "source": [
        "#### 6.13「10×10の「0」行列を作成し、ランダムで20個「1」に変更してください。」"
      ]
    },
    {
      "cell_type": "code",
      "metadata": {
        "colab": {
          "base_uri": "https://localhost:8080/"
        },
        "id": "vWX6A55kPoOb",
        "outputId": "bdc19a85-af8f-4111-906d-e5bf01d5cf5e"
      },
      "source": [
        "z_1 = np.zeros([10,10])\n",
        "z_2 = np.random.choice(100, 10, replace=False)\n",
        "np.put(z_1, z_2, 1)\n",
        "print(z_1)"
      ],
      "execution_count": 41,
      "outputs": [
        {
          "output_type": "stream",
          "name": "stdout",
          "text": [
            "[[0. 0. 0. 0. 0. 0. 0. 0. 0. 0.]\n",
            " [1. 0. 0. 0. 0. 0. 0. 1. 0. 0.]\n",
            " [0. 0. 0. 0. 0. 0. 0. 0. 0. 0.]\n",
            " [0. 0. 0. 0. 0. 0. 0. 1. 0. 0.]\n",
            " [0. 0. 0. 0. 0. 0. 0. 0. 0. 1.]\n",
            " [0. 0. 0. 0. 0. 0. 0. 0. 0. 0.]\n",
            " [0. 0. 0. 0. 0. 0. 0. 0. 0. 0.]\n",
            " [0. 0. 0. 0. 0. 0. 0. 0. 0. 1.]\n",
            " [0. 0. 0. 0. 1. 1. 0. 0. 0. 0.]\n",
            " [1. 0. 0. 0. 0. 1. 0. 0. 1. 0.]]\n"
          ]
        }
      ]
    },
    {
      "cell_type": "markdown",
      "metadata": {
        "id": "EzZJV3GUyKlT"
      },
      "source": [
        "**n = 10<br>\n",
        "p = 20<br>\n",
        "data = np.zeros((n,n))<br>\n",
        "np.put(data, np.random.choice(range(n*n), p, replace=False),1)<br>\n",
        "print(data)**"
      ]
    },
    {
      "cell_type": "markdown",
      "metadata": {
        "id": "62REsrRCPoOb"
      },
      "source": [
        "#### 6.14「100の整数のランダム要素を持つ配列を作成し、その頻度を出力してください。」"
      ]
    },
    {
      "cell_type": "code",
      "metadata": {
        "colab": {
          "base_uri": "https://localhost:8080/"
        },
        "id": "oZiWvx78PoOb",
        "outputId": "0c1fd28f-20fa-4897-8124-ac2b769e4003"
      },
      "source": [
        "a_1 = np.random.randint(0,101,100)\n",
        "a_2 = np.bincount(a_1)\n",
        "print(a_2)"
      ],
      "execution_count": 42,
      "outputs": [
        {
          "output_type": "stream",
          "name": "stdout",
          "text": [
            "[1 0 0 1 0 2 1 2 1 2 2 4 1 0 1 1 2 1 1 0 0 0 2 0 0 0 0 0 0 1 1 1 0 2 3 2 0\n",
            " 1 2 2 1 0 2 1 0 0 4 0 2 0 1 0 0 2 0 0 0 1 1 1 2 2 0 0 1 1 0 1 0 1 2 1 1 0\n",
            " 0 0 0 3 0 1 3 2 5 2 0 0 1 1 3 1 1 2 0 2 1 1 0 1 0 1 1]\n"
          ]
        }
      ]
    },
    {
      "cell_type": "code",
      "metadata": {
        "id": "RcGHOi9wMGfV"
      },
      "source": [
        ""
      ],
      "execution_count": 42,
      "outputs": []
    }
  ]
}